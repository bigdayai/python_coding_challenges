{
 "cells": [
  {
   "cell_type": "markdown",
   "metadata": {},
   "source": [
    "![](img/big_day_ipynb_aca_head.png)"
   ]
  },
  {
   "cell_type": "markdown",
   "metadata": {},
   "source": [
    "<img src=\"img/big_day_aca_head.png\" align=\"right\">"
   ]
  },
  {
   "cell_type": "markdown",
   "metadata": {},
   "source": [
    "<h1><center>CODING CHALLENGES</center></h1>\n",
    "<h2><center>Longest Common Prefix</center></h2>"
   ]
  },
  {
   "cell_type": "markdown",
   "metadata": {},
   "source": [
    "## Table of Contents<span id=\"0\"></span>\n",
    "\n",
    "1. [**Challenge**](#1)\n",
    "    * Examples\n",
    "<br/><br/>\n",
    "2. [**Step by Step Solution**](#2)\n",
    "    * Obervations\n",
    "    * Rules & Principles\n",
    "    * Pseudocode\n",
    "    * Step 1: Instantiate Variables\n",
    "    * Step 2: Iteration & Conditionals\n",
    "    * Step 3: Wrap Code in a Function\n",
    "    * Step 4: Function Testing\n",
    "<br/><br/>\n",
    "3. [**Other Solutions**](#3)\n",
    "<br/><br/>\n",
    "5. [**Additional Resources & Contact**](#5)"
   ]
  },
  {
   "cell_type": "markdown",
   "metadata": {},
   "source": [
    "# <span id=\"1\"></span>1. Challenge: Longest Common Prefix"
   ]
  },
  {
   "cell_type": "markdown",
   "metadata": {},
   "source": [
    "Write a function to find the longest common prefix string amongst an array of strings.\n",
    "\n",
    "If there is no common prefix, return an empty string \"\"."
   ]
  },
  {
   "cell_type": "markdown",
   "metadata": {},
   "source": [
    "## Examples"
   ]
  },
  {
   "cell_type": "markdown",
   "metadata": {},
   "source": [
    "### Example 1"
   ]
  },
  {
   "cell_type": "markdown",
   "metadata": {},
   "source": [
    "**Input:** s = \"III\"\\\n",
    "**Output:** 3\\\n",
    "**Explanation:** III = 3."
   ]
  },
  {
   "cell_type": "markdown",
   "metadata": {},
   "source": [
    "### Example 2"
   ]
  },
  {
   "cell_type": "markdown",
   "metadata": {},
   "source": [
    "**Input:** s = \"LVIII\"\\\n",
    "**Output:** 58\\\n",
    "**Explanation:** L = 50, V= 5, III = 3."
   ]
  },
  {
   "cell_type": "markdown",
   "metadata": {},
   "source": [
    "### Example 3"
   ]
  },
  {
   "cell_type": "markdown",
   "metadata": {},
   "source": [
    "**Input:** s = \"MCMXCIV\"\\\n",
    "**Output:** 1994\\\n",
    "**Explanation:** M = 1000, CM = 900, XC = 90 and IV = 4."
   ]
  },
  {
   "cell_type": "markdown",
   "metadata": {},
   "source": [
    "## <span id=\"2\"></span>2. Step by Step Solution\n",
    "#### [Return Contents](#0)"
   ]
  },
  {
   "cell_type": "markdown",
   "metadata": {},
   "source": [
    "### Observations"
   ]
  },
  {
   "cell_type": "markdown",
   "metadata": {},
   "source": [
    "* The Roman numeral is essentially an addition equation, each character representing a certain amount.\n",
    "* However, \"I\" can be used in front of \"V\" to symbolize 4 and in front of \"X\" to symbolize 9, so there is also an aspect of subtraction when reading a roman numeral.\n",
    "* Also \"X\" can be used in front of \"L\" and \"C\" to symbolize 40 and 90 respectively.\n",
    "* \"C\" can be used in front of \"D\" and \"M\" to symbolize 400 and 900 respectively."
   ]
  },
  {
   "cell_type": "markdown",
   "metadata": {},
   "source": [
    "### Rules & Principles"
   ]
  },
  {
   "cell_type": "markdown",
   "metadata": {},
   "source": [
    "Observations can be reduced into rules and principles.\n",
    "\n",
    "1. The integer value of a numeral should be added to an overall sum.\n",
    "2. However, when a Roman numeral is followed by a greater numeral (ex. 1X) it's integeter value should be subtracted from the overall sum.\n",
    "3. The last letter will always be added."
   ]
  },
  {
   "cell_type": "markdown",
   "metadata": {},
   "source": [
    "### Pseudocode"
   ]
  },
  {
   "cell_type": "markdown",
   "metadata": {},
   "source": [
    "Solve for the most complex example by breaking it down into pieces.\n",
    "\n",
    "1. Instantiate a variable containing the roman numeral string object: roman.\n",
    "2. Make a dictionary containing all the possible roman number options as keys and the integers conversions as values. \n",
    "3. Instantiate a variable to store the sum of the integer values.\n",
    "4. Iterate over the roman numeral string using indexing from left to right (0, len(roman) - 1).\n",
    "5. Determine the value of the first numeral.\n",
    "6. Determine the value of the second numeral.\n",
    "7. Compare the value of the first and second numeral to see if first is greater than second.\n",
    "8. If first is less than second, subtract the value of the first from the overall sum.\n",
    "9. If first is greater than second, add the value of the first to the overall sum.\n",
    "10. Repeat for each character in the Roman numeral string.\n",
    "11. End the for loop by adding the value of the last numberal."
   ]
  },
  {
   "cell_type": "markdown",
   "metadata": {},
   "source": [
    "### Step 1: Instantiate Your Variables"
   ]
  },
  {
   "cell_type": "code",
   "execution_count": 29,
   "metadata": {},
   "outputs": [],
   "source": [
    "roman = \"MCMXCIV\""
   ]
  },
  {
   "cell_type": "code",
   "execution_count": 30,
   "metadata": {},
   "outputs": [],
   "source": [
    "roman_dict = {\n",
    "    \"I\": 1,\n",
    "    \"V\": 5,\n",
    "    \"X\": 10,\n",
    "    \"L\": 50,\n",
    "    \"C\": 100,\n",
    "    \"D\": 500,\n",
    "    \"M\": 1000\n",
    "}"
   ]
  },
  {
   "cell_type": "code",
   "execution_count": 31,
   "metadata": {},
   "outputs": [],
   "source": [
    "sum = 0"
   ]
  },
  {
   "cell_type": "markdown",
   "metadata": {},
   "source": [
    "### Step 2: Iteration & Conditionals"
   ]
  },
  {
   "cell_type": "code",
   "execution_count": 32,
   "metadata": {},
   "outputs": [],
   "source": [
    "# the for loop should iterate over every character in the roman numeral string expect for the last character.\n",
    "for i in range(0, len(roman) - 1):\n",
    "    # isolate the first character to the right in the roman numeral string.\n",
    "    curr = roman_dict[roman[i]]\n",
    "    # isolate the next character to the right of the first character.\n",
    "    nxt = roman_dict[roman[i + 1]]\n",
    "    # compare the value of the first and second characters\n",
    "    if curr < nxt:\n",
    "        # if the first is less than the second, subtract the value of the first.\n",
    "        sum -= curr\n",
    "    else:\n",
    "        # if the first is greater than the second, add the value of the first.\n",
    "        sum += curr\n",
    "# once each character in the roman numeral string has been iterated over, add the value of the final character.\n",
    "sum += roman_dict[roman[-1]]"
   ]
  },
  {
   "cell_type": "code",
   "execution_count": 33,
   "metadata": {},
   "outputs": [
    {
     "name": "stdout",
     "output_type": "stream",
     "text": [
      "1994\n"
     ]
    }
   ],
   "source": [
    "print(sum)"
   ]
  },
  {
   "cell_type": "markdown",
   "metadata": {},
   "source": [
    "### Step 3: Wrap Code in a Function"
   ]
  },
  {
   "cell_type": "code",
   "execution_count": 38,
   "metadata": {},
   "outputs": [],
   "source": [
    "def romanToInt(roman: str):\n",
    "    roman_dict = {\n",
    "        \"I\": 1,\n",
    "        \"V\": 5,\n",
    "        \"X\": 10,\n",
    "        \"L\": 50,\n",
    "        \"C\": 100,\n",
    "        \"D\": 500,\n",
    "        \"M\": 1000\n",
    "    }\n",
    "    \n",
    "    sum = 0\n",
    "    for i in range(0, len(roman) - 1):\n",
    "        curr = roman_dict[roman[i]]\n",
    "        nxt = roman_dict[roman[i + 1]]\n",
    "        if curr < nxt:\n",
    "            sum -= curr\n",
    "        else:\n",
    "            sum += curr\n",
    "    sum += roman_dict[roman[-1]]\n",
    "    return sum"
   ]
  },
  {
   "cell_type": "code",
   "execution_count": 39,
   "metadata": {},
   "outputs": [
    {
     "data": {
      "text/plain": [
       "1994"
      ]
     },
     "execution_count": 39,
     "metadata": {},
     "output_type": "execute_result"
    }
   ],
   "source": [
    "romanToInt(\"MCMXCIV\")"
   ]
  },
  {
   "cell_type": "markdown",
   "metadata": {},
   "source": [
    "### Step 4: Function Testing"
   ]
  },
  {
   "cell_type": "code",
   "execution_count": 40,
   "metadata": {},
   "outputs": [
    {
     "data": {
      "text/plain": [
       "58"
      ]
     },
     "execution_count": 40,
     "metadata": {},
     "output_type": "execute_result"
    }
   ],
   "source": [
    "romanToInt(\"LVIII\")"
   ]
  },
  {
   "cell_type": "code",
   "execution_count": 41,
   "metadata": {},
   "outputs": [
    {
     "data": {
      "text/plain": [
       "3"
      ]
     },
     "execution_count": 41,
     "metadata": {},
     "output_type": "execute_result"
    }
   ],
   "source": [
    "romanToInt(\"III\")"
   ]
  },
  {
   "cell_type": "markdown",
   "metadata": {},
   "source": [
    "## <span id=\"4\"></span>4. Other Solutions\n",
    "#### [Return Contents](#0)"
   ]
  },
  {
   "cell_type": "markdown",
   "metadata": {},
   "source": [
    "This approach identifies each possible roman numeral character in a string and adds them together.\n",
    "Then it identifies each possible roman numeral character combination and subtracts the values to ultimately get the right integer conversion.\n",
    "\n",
    "#### Benefits\n",
    "\n",
    "* Fewer lines of code.\n",
    "\n",
    "#### Disadvantages\n",
    "\n",
    "* The code is not as easy to reach and follow from a debugging standpoint.\n",
    "* It's generally considered better practice to write a solution that doesn't rely on other functions and methods, in this case the .count method."
   ]
  },
  {
   "cell_type": "code",
   "execution_count": null,
   "metadata": {},
   "outputs": [],
   "source": [
    "result = s.count('I') + 5 * s.count('V') + 10 * s.count('X') + 50 * s.count('L') + 100 * s.count('C') + 500 * s.count('D') + 1000 * s.count('M')\n",
    "result -= 2 * (s.count('IV') + s.count('IX')) + 20 * (s.count('XL') + s.count('XC')) + 200 * (s.count('CD') + s.count('CM'))"
   ]
  },
  {
   "cell_type": "code",
   "execution_count": 42,
   "metadata": {},
   "outputs": [],
   "source": [
    "def romanToInt_count(s: str):\n",
    "    result = s.count('I') + 5 * s.count('V') + 10 * s.count('X') + 50 * s.count('L') + 100 * s.count('C') + 500 * s.count('D') + 1000 * s.count('M')\n",
    "    result -= 2 * (s.count('IV') + s.count('IX')) + 20 * (s.count('XL') + s.count('XC')) + 200 * (s.count('CD') + s.count('CM'))\n",
    "    return result"
   ]
  },
  {
   "cell_type": "code",
   "execution_count": 43,
   "metadata": {},
   "outputs": [
    {
     "data": {
      "text/plain": [
       "1994"
      ]
     },
     "execution_count": 43,
     "metadata": {},
     "output_type": "execute_result"
    }
   ],
   "source": [
    "romanToInt_count(\"MCMXCIV\")"
   ]
  },
  {
   "cell_type": "code",
   "execution_count": 44,
   "metadata": {},
   "outputs": [
    {
     "data": {
      "text/plain": [
       "58"
      ]
     },
     "execution_count": 44,
     "metadata": {},
     "output_type": "execute_result"
    }
   ],
   "source": [
    "romanToInt_count(\"LVIII\")"
   ]
  },
  {
   "cell_type": "code",
   "execution_count": 45,
   "metadata": {},
   "outputs": [
    {
     "data": {
      "text/plain": [
       "3"
      ]
     },
     "execution_count": 45,
     "metadata": {},
     "output_type": "execute_result"
    }
   ],
   "source": [
    "romanToInt_count(\"III\")"
   ]
  },
  {
   "cell_type": "markdown",
   "metadata": {},
   "source": [
    "## <span id=\"5\"></span>5. Additional Resources\n",
    "#### [Return Contents](#0)"
   ]
  },
  {
   "cell_type": "markdown",
   "metadata": {},
   "source": [
    "Check out the Leetcode challenge, [Roman to Integer](https://leetcode.com/problems/roman-to-integer/), to learn more and try this out for yourself."
   ]
  },
  {
   "cell_type": "markdown",
   "metadata": {},
   "source": [
    "[<img src=\"img/frank_contact_card_button3.png\" align=\"center\">](http://www.bigday.ai)"
   ]
  },
  {
   "cell_type": "markdown",
   "metadata": {},
   "source": [
    "### Style Sheet"
   ]
  },
  {
   "cell_type": "code",
   "execution_count": 1,
   "metadata": {},
   "outputs": [
    {
     "data": {
      "text/html": [
       "<style>\n",
       "table {float:left}\n",
       "</style>\n"
      ],
      "text/plain": [
       "<IPython.core.display.HTML object>"
      ]
     },
     "metadata": {},
     "output_type": "display_data"
    }
   ],
   "source": [
    "%%html\n",
    "<style>\n",
    "table {float:left}\n",
    "</style>"
   ]
  }
 ],
 "metadata": {
  "kernelspec": {
   "display_name": "Python 3",
   "language": "python",
   "name": "python3"
  },
  "language_info": {
   "codemirror_mode": {
    "name": "ipython",
    "version": 3
   },
   "file_extension": ".py",
   "mimetype": "text/x-python",
   "name": "python",
   "nbconvert_exporter": "python",
   "pygments_lexer": "ipython3",
   "version": "3.7.4"
  },
  "toc": {
   "base_numbering": 1,
   "nav_menu": {},
   "number_sections": true,
   "sideBar": true,
   "skip_h1_title": false,
   "title_cell": "Table of Contents",
   "title_sidebar": "Contents",
   "toc_cell": false,
   "toc_position": {},
   "toc_section_display": true,
   "toc_window_display": false
  },
  "varInspector": {
   "cols": {
    "lenName": 16,
    "lenType": 16,
    "lenVar": 40
   },
   "kernels_config": {
    "python": {
     "delete_cmd_postfix": "",
     "delete_cmd_prefix": "del ",
     "library": "var_list.py",
     "varRefreshCmd": "print(var_dic_list())"
    },
    "r": {
     "delete_cmd_postfix": ") ",
     "delete_cmd_prefix": "rm(",
     "library": "var_list.r",
     "varRefreshCmd": "cat(var_dic_list()) "
    }
   },
   "types_to_exclude": [
    "module",
    "function",
    "builtin_function_or_method",
    "instance",
    "_Feature"
   ],
   "window_display": false
  }
 },
 "nbformat": 4,
 "nbformat_minor": 2
}
